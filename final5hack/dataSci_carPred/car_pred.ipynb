{
  "nbformat": 4,
  "nbformat_minor": 0,
  "metadata": {
    "colab": {
      "provenance": [],
      "toc_visible": true
    },
    "kernelspec": {
      "name": "python3",
      "display_name": "Python 3"
    },
    "language_info": {
      "name": "python"
    }
  },
  "cells": [
    {
      "cell_type": "code",
      "execution_count": null,
      "metadata": {
        "id": "Z9eVvWqvSocA"
      },
      "outputs": [],
      "source": [
        "!unzip /content/drive/MyDrive/superAI_lv2/hackathon/Final_5hacks/car_prediction/hackathon-online-data-science-and-big-data-ss-4.zip"
      ]
    },
    {
      "cell_type": "code",
      "source": [
        "import numpy as np # linear algebra\n",
        "import pandas as pd # data processing, CSV file I/O (e.g. pd.read_csv)\n",
        "import matplotlib.pyplot as plt\n",
        "import os\n",
        "\n",
        "sp_sms = pd.read_csv('sample_submission.csv')\n",
        "X_train = pd.read_csv('train_data.csv')\n",
        "Y_train = pd.read_csv('train_target.csv')\n",
        "df_test = pd.read_csv('test_data.csv')"
      ],
      "metadata": {
        "id": "dDYuHEFhT3-T"
      },
      "execution_count": null,
      "outputs": []
    },
    {
      "cell_type": "code",
      "source": [
        "Y_train.head(), Y_train.Car.value_counts()"
      ],
      "metadata": {
        "id": "ko7vjDsaUoxX"
      },
      "execution_count": null,
      "outputs": []
    },
    {
      "cell_type": "code",
      "source": [
        "df_test"
      ],
      "metadata": {
        "id": "bbmqOirXUVlP"
      },
      "execution_count": null,
      "outputs": []
    },
    {
      "cell_type": "code",
      "source": [
        "X_train.info(), df_test.info()"
      ],
      "metadata": {
        "id": "hJfJphdlYnMC"
      },
      "execution_count": null,
      "outputs": []
    },
    {
      "cell_type": "code",
      "source": [
        "ls_col_cat = list(X_train.select_dtypes(exclude=[\"number\"]).columns)\n",
        "ls_col_num = list(X_train._get_numeric_data().columns)"
      ],
      "metadata": {
        "id": "ld20Xc_QWNTO"
      },
      "execution_count": null,
      "outputs": []
    },
    {
      "cell_type": "code",
      "source": [
        "len(ls_col_num)"
      ],
      "metadata": {
        "id": "6brY0JigZCaW"
      },
      "execution_count": null,
      "outputs": []
    },
    {
      "cell_type": "markdown",
      "source": [
        "# prepare"
      ],
      "metadata": {
        "id": "YLizNZyfh0sz"
      }
    },
    {
      "cell_type": "code",
      "source": [
        "from sklearn.model_selection import train_test_split, StratifiedKFold\n",
        "from sklearn.preprocessing import LabelEncoder, MinMaxScaler\n",
        "from sklearn.metrics import accuracy_score, classification_report"
      ],
      "metadata": {
        "id": "Ln6bJ1GEUg1T"
      },
      "execution_count": null,
      "outputs": []
    },
    {
      "cell_type": "code",
      "source": [
        "# # Separate features and target variable from training data\n",
        "X_num = X_train[ls_col_num]\n",
        "X_num = X_num.drop(columns=['Id'])\n",
        "X_cat = X_train[ls_col_cat]\n",
        "y = Y_train['Car']\n",
        "\n",
        "# For the test set, we only have features\n",
        "X_test_num = df_test[ls_col_num]\n",
        "X_test_num = X_test_num.drop(columns=['Id'])\n",
        "X_test_cat = df_test[ls_col_cat]"
      ],
      "metadata": {
        "id": "lJlz6LG3Ugxn"
      },
      "execution_count": null,
      "outputs": []
    },
    {
      "cell_type": "code",
      "source": [
        "X_num.shape, X_cat.shape, X_test_num.shape, X_test_cat.shape"
      ],
      "metadata": {
        "id": "JNTdWLgTYje_"
      },
      "execution_count": null,
      "outputs": []
    },
    {
      "cell_type": "code",
      "source": [
        "scaler = MinMaxScaler()\n",
        "X_num_scaled = scaler.fit_transform(X_num)\n",
        "X_test_num_scaled = scaler.transform(X_test_num)\n",
        "\n",
        "# label_encoder = LabelEncoder()\n",
        "# X_cat_encoded = label_encoder.fit_transform(X_cat)\n",
        "# X_test_cat_encoded = label_encoder.transform(X_test_cat)"
      ],
      "metadata": {
        "id": "MCP631Q6TsL3"
      },
      "execution_count": null,
      "outputs": []
    },
    {
      "cell_type": "code",
      "source": [
        "pd.get_dummies(X_cat)"
      ],
      "metadata": {
        "id": "L39-KArbaaN3"
      },
      "execution_count": null,
      "outputs": []
    },
    {
      "cell_type": "code",
      "source": [
        "# Split the data into training and validation sets\n",
        "Xtn_scaled, Xvn_scaled, yt, yv = train_test_split(X_num_scaled, y, test_size=0.25, random_state=888, stratify=y)"
      ],
      "metadata": {
        "id": "GRUTYYJtbSlm"
      },
      "execution_count": null,
      "outputs": []
    },
    {
      "cell_type": "markdown",
      "source": [
        "# train"
      ],
      "metadata": {
        "id": "ZM0Uss6Xh3bV"
      }
    },
    {
      "cell_type": "code",
      "source": [
        "import xgboost as xgb\n",
        "\n",
        "best_params = {'n_estimators': 2545,\n",
        " 'learning_rate': 0.030312402618414676,\n",
        " 'max_depth': 29,\n",
        " 'lambda': 3.9410705514928686,\n",
        " 'alpha': 4.837852994429205,\n",
        " 'subsample': 0.8993275809401318,\n",
        " 'colsample_bytree': 0.8383987302764818,\n",
        " 'colsample_bynode': 0.9945482713831311,\n",
        " 'min_child_weight': 16.36151941228406}\n",
        "\n",
        "model = xgb.XGBClassifier(**best_params,\n",
        "                          objective='multi:softmax',\n",
        "                          device='cpu', # cuda:0 -> method=hist\n",
        "                          verbosity=0,\n",
        "                          num_class=2,\n",
        "                          use_label_encoder=False,\n",
        "                          seed=888,\n",
        "                          early_stopping_rounds=10)\n",
        "model.fit(Xtn_scaled, yt, eval_set=[(Xvn_scaled, yv)], verbose=False)\n",
        "yv_pred = model.predict(Xvn_scaled)\n",
        "accuracy = accuracy_score(yv, yv_pred)\n",
        "print(f'Validation Accuracy: {accuracy}')\n",
        "print(classification_report(yv, yv_pred))"
      ],
      "metadata": {
        "id": "978IUUvjcbMq"
      },
      "execution_count": null,
      "outputs": []
    },
    {
      "cell_type": "code",
      "source": [
        "import xgboost as xgb\n",
        "\n",
        "best_params = {'n_estimators': 2545,\n",
        " 'learning_rate': 0.030312402618414676,\n",
        " 'max_depth': 29,\n",
        " 'lambda': 3.9410705514928686,\n",
        " 'alpha': 4.837852994429205,\n",
        " 'subsample': 0.8993275809401318,\n",
        " 'colsample_bytree': 0.8383987302764818,\n",
        " 'colsample_bynode': 0.9945482713831311,\n",
        " 'min_child_weight': 16.36151941228406}\n",
        "\n",
        "stkf = StratifiedKFold(n_splits=9, shuffle=True)  # do not set random_state\n",
        "model_ls = []\n",
        "total_acc = 0\n",
        "\n",
        "for train_idx, val_idx in stkf.split(X_num_scaled, y):\n",
        "    Xt, Xv = X_num_scaled[train_idx], X_num_scaled[val_idx]\n",
        "    yt, yv = y[train_idx], y[val_idx]\n",
        "\n",
        "    model = xgb.XGBClassifier(**best_params,\n",
        "                          objective='multi:softmax',\n",
        "                          device='cpu', # cuda:0 -> method=hist\n",
        "                          verbosity=0,\n",
        "                          num_class=2,\n",
        "                          use_label_encoder=False,\n",
        "                          seed=888,\n",
        "                          early_stopping_rounds=10)\n",
        "    model.fit(Xt, yt, eval_set=[(Xv, yv)], verbose=False)\n",
        "    model_ls.append(model)\n",
        "\n",
        "    yv_pred = model.predict(Xv)\n",
        "    accuracy = accuracy_score(yv, yv_pred)\n",
        "    total_acc += accuracy\n",
        "\n",
        "# Average accuracy across folds\n",
        "avg_acc = total_acc / stkf.get_n_splits()\n",
        "\n",
        "print(f'Validation Accuracy: {avg_acc}')\n",
        "# print(classification_report(y_val_encoded, y_val_pred))"
      ],
      "metadata": {
        "id": "22AYpZunbSiQ"
      },
      "execution_count": null,
      "outputs": []
    },
    {
      "cell_type": "markdown",
      "source": [
        "# predict"
      ],
      "metadata": {
        "id": "cQtrP9dfeKJd"
      }
    },
    {
      "cell_type": "markdown",
      "source": [
        "## normal"
      ],
      "metadata": {
        "id": "M48ybrzoeAiK"
      }
    },
    {
      "cell_type": "code",
      "source": [
        "y_test_pred = model.predict(X_test_num_scaled)\n",
        "sp_sms.loc[3:, 'Predicted'] = y_test_pred[3:]\n",
        "sp_sms['Predicted'].value_counts()"
      ],
      "metadata": {
        "id": "eQBUjpsobSe4"
      },
      "execution_count": null,
      "outputs": []
    },
    {
      "cell_type": "code",
      "source": [
        "sp_sms['Predicted'] = sp_sms['Predicted'].astype(int)\n",
        "sp_sms"
      ],
      "metadata": {
        "id": "F48vzkgtfNq4"
      },
      "execution_count": null,
      "outputs": []
    },
    {
      "cell_type": "code",
      "source": [
        "# Save the submission to a CSV file\n",
        "sp_sms.to_csv('datasci_xgb_dropObj.csv', index=False)"
      ],
      "metadata": {
        "id": "3uZhNzGwaCKK"
      },
      "execution_count": null,
      "outputs": []
    },
    {
      "cell_type": "markdown",
      "source": [
        "## ensemble 9 fold"
      ],
      "metadata": {
        "id": "40VBGZPqeBF3"
      }
    },
    {
      "cell_type": "code",
      "source": [
        "pred_cols = []\n",
        "\n",
        "for i in range(len(model_ls)):\n",
        "  # Predict the classes\n",
        "  y_test_pred = model_ls[i].predict(X_test_num_scaled)\n",
        "\n",
        "  if i == 0:\n",
        "    pred_df = pd.DataFrame(y_test_pred)\n",
        "  else:\n",
        "    pred_df = pd.concat([pred_df, pd.DataFrame(y_test_pred)], axis=1)\n",
        "  pred_cols.append(\"fold_\" + str(i + 1))\n",
        "  pred_df.columns = pred_cols\n",
        "del pred_cols\n",
        "pred_df"
      ],
      "metadata": {
        "id": "x2di6zwWd_i2"
      },
      "execution_count": null,
      "outputs": []
    },
    {
      "cell_type": "code",
      "source": [
        "for i in pred_df.columns:\n",
        "  print(pred_df[i].value_counts(), \"\\n\")"
      ],
      "metadata": {
        "id": "cS6cyPKnd_f1"
      },
      "execution_count": null,
      "outputs": []
    },
    {
      "cell_type": "code",
      "source": [
        "ens_pred = pred_df.mode(axis=1)\n",
        "ens_pred.value_counts()"
      ],
      "metadata": {
        "id": "bQwko8mnd_cQ"
      },
      "execution_count": null,
      "outputs": []
    },
    {
      "cell_type": "code",
      "source": [
        "sp_sms.loc[3:, 'Predicted'] = np.array(ens_pred[0])[3:]\n",
        "sp_sms"
      ],
      "metadata": {
        "id": "odKqpggLe57S"
      },
      "execution_count": null,
      "outputs": []
    },
    {
      "cell_type": "code",
      "source": [
        "sp_sms['Predicted'] = sp_sms['Predicted'].astype(int)\n",
        "sp_sms"
      ],
      "metadata": {
        "id": "-sDNH4mNgmXX"
      },
      "execution_count": null,
      "outputs": []
    },
    {
      "cell_type": "code",
      "source": [
        "# Save the submission to a CSV file\n",
        "sp_sms.to_csv('datasci_xgb9folds_dropObj.csv', index=False)"
      ],
      "metadata": {
        "id": "a9PhOBNdd_Yp"
      },
      "execution_count": null,
      "outputs": []
    },
    {
      "cell_type": "code",
      "source": [],
      "metadata": {
        "id": "Ld1Yv_61SxG5"
      },
      "execution_count": null,
      "outputs": []
    }
  ]
}