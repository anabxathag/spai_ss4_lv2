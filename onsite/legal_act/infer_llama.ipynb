{
  "nbformat": 4,
  "nbformat_minor": 0,
  "metadata": {
    "colab": {
      "provenance": [],
      "gpuType": "T4",
      "toc_visible": true
    },
    "kernelspec": {
      "name": "python3",
      "display_name": "Python 3"
    },
    "language_info": {
      "name": "python"
    },
    "accelerator": "GPU"
  },
  "cells": [
    {
      "cell_type": "code",
      "source": [
        "!CMAKE_ARGS=\"-DLLAMA_CUBLAS=on\" pip install llama-cpp-python"
      ],
      "metadata": {
        "id": "TlnzGG2eUByR"
      },
      "execution_count": null,
      "outputs": []
    },
    {
      "cell_type": "code",
      "source": [
        "import pandas as pd\n",
        "from huggingface_hub import hf_hub_download\n",
        "from llama_cpp import Llama"
      ],
      "metadata": {
        "id": "NsHnJNTjUBmz"
      },
      "execution_count": null,
      "outputs": []
    },
    {
      "cell_type": "code",
      "source": [
        "model_name = \"QuantFactory/Meta-Llama-3-8B-Instruct-GGUF\"\n",
        "model_file = \"Meta-Llama-3-8B-Instruct.Q8_0.gguf\"\n",
        "model_path = hf_hub_download(model_name,\n",
        "                             filename=model_file,\n",
        "                             local_dir='/content')\n",
        "print(\"My model path: \", model_path)"
      ],
      "metadata": {
        "id": "4Nu7mJD9UPnB"
      },
      "execution_count": null,
      "outputs": []
    },
    {
      "cell_type": "code",
      "source": [
        "llm = Llama(model_path='/content/Meta-Llama-3-8B-Instruct.Q8_0.gguf',\n",
        "            n_gpu_layers=-1,\n",
        "            n_ctx=4096)"
      ],
      "metadata": {
        "id": "a7e6WS43UPja"
      },
      "execution_count": null,
      "outputs": []
    },
    {
      "cell_type": "code",
      "source": [
        "import ast\n",
        "\n",
        "def format_prompt(context, question, legal_act):\n",
        "    l = ast.literal_eval(question)\n",
        "    l = len(l)\n",
        "    template = f\"\"\" Your task is to determine if the signed names meets the condition.\n",
        "    You'll be given a condition, and a list of signed committee.\n",
        "    You'll also be given an action that the signing is about.\n",
        "    ###You can ignore the extra names if the condition is already met\n",
        "    ###Never assume that there's more committee signed than given.\n",
        "    Consider action and check if there's any special conditions for that action\n",
        "    Condition:{context}\n",
        "    Number of signed signatures: {l}\n",
        "    List of comittees that signed(signed signatures) {question}\n",
        "    action: {legal_act}\n",
        "    #You MUST End the Answer with True if any one of the condition is met, False otherwise\"\"\"\n",
        "    template = template.replace(\"และประทับตราสำคัญของบริษัท\", \" \")\n",
        "    template = template.replace(\"ประทับตรา\", \"\")\n",
        "    template = template.replace(\"และ\", \" and \")\n",
        "    template = template.replace(\"หรือ\", \" or \")\n",
        "    template = template.replace (\"คนใดคนหนึ่ง\", \" 1 คน \")\n",
        "    template = template.replace(\"สามารถ\",\"####CAN####\")\n",
        "    num_dict = {'หนึ่ง': ' 1 ',\n",
        "           'สอง': ' 2 ',\n",
        "           'สาม': ' 3 ',\n",
        "           'สี่': ' 4 ',\n",
        "           'ห้า': ' 5 ',\n",
        "           'เจ็ด': ' 7 ',\n",
        "           'แปด': ' 8 ',\n",
        "           'เก้า': ' 9 ',\n",
        "           'สิบ': ' 10 '}\n",
        "    for k,v in num_dict.items():\n",
        "        template = template.replace(k,v)\n",
        "    template = template.replace(\"####CAN####\",\"สามารถ\",)\n",
        "\n",
        "    return template"
      ],
      "metadata": {
        "id": "WOJOoznkUPNy"
      },
      "execution_count": null,
      "outputs": []
    },
    {
      "cell_type": "code",
      "source": [
        "df = pd.read_csv('/content/test_John_1.csv')\n",
        "df.head()"
      ],
      "metadata": {
        "id": "-jPigegfVK9i"
      },
      "execution_count": null,
      "outputs": []
    },
    {
      "cell_type": "code",
      "source": [
        "prompt_list = []\n",
        "for row in df.iterrows():\n",
        "    context = row[1]['new_context']\n",
        "    question = row[1]['new_question']\n",
        "    legal_act = row[1]['legal_act']\n",
        "    prompt = format_prompt(context, question, legal_act)\n",
        "    prompt_list.append(prompt)"
      ],
      "metadata": {
        "id": "ljk1y7sgVK6q"
      },
      "execution_count": null,
      "outputs": []
    },
    {
      "cell_type": "code",
      "source": [
        "df['prompt'] = prompt_list\n",
        "df['prompt'][10]"
      ],
      "metadata": {
        "id": "a_uLQhR1VUp8"
      },
      "execution_count": null,
      "outputs": []
    },
    {
      "cell_type": "code",
      "source": [
        "num_parts = 8\n",
        "\n",
        "# Calculate approximate number of rows per part\n",
        "rows_per_part = len(df) // num_parts\n",
        "\n",
        "# Generate the indices for splitting\n",
        "indices = [0] + [rows_per_part * i for i in range(1, num_parts)] + [len(df)]\n",
        "\n",
        "# Print the indices\n",
        "print(indices)"
      ],
      "metadata": {
        "id": "BYsNaAc_VUnS"
      },
      "execution_count": null,
      "outputs": []
    },
    {
      "cell_type": "code",
      "source": [
        "from tqdm import tqdm\n",
        "\n",
        "index1 = 4374\n",
        "index2 = 5103\n",
        "ans_list = []\n",
        "\n",
        "for row in tqdm(df['prompt'][index1:index2]):\n",
        "  completion = llm.create_chat_completion(\n",
        "    messages=[\n",
        "    {\"role\": \"system\", \"content\": \"You are a helpful, smart, kind, and efficient AI assistant. You always fulfill the user's requests to the best of your ability.\"},\n",
        "    {\"role\": \"user\", \"content\": row}\n",
        "    ],\n",
        "    temperature=0.0,\n",
        "    )\n",
        "  ans_list.append(completion['choices'][0]['message']['content'])\n",
        "ans_list"
      ],
      "metadata": {
        "id": "G_pZ_ZF8VUkU"
      },
      "execution_count": null,
      "outputs": []
    },
    {
      "cell_type": "code",
      "source": [
        "def check_ans(ans):\n",
        "    message = ans\n",
        "    message = message.upper()\n",
        "    t = max(message.rfind('TRUE'), message.rfind('YES'), message.rfind('CONDITION IS MET'))\n",
        "    f = max(message.rfind('FALSE'), message.rfind('CONDITION IS NOT MET'))\n",
        "    if(t == -1 and f == -1):\n",
        "        return None\n",
        "    if(t >= f):\n",
        "        return 1\n",
        "    else:\n",
        "        return 0"
      ],
      "metadata": {
        "id": "wyUXmQ2VVK2z"
      },
      "execution_count": null,
      "outputs": []
    },
    {
      "cell_type": "code",
      "execution_count": null,
      "metadata": {
        "id": "_GbucfSHSONZ"
      },
      "outputs": [],
      "source": [
        "final_ans_list = []\n",
        "for a in ans_list:\n",
        "    final_ans_list.append(check_ans(a))\n",
        "final_ans_list"
      ]
    },
    {
      "cell_type": "code",
      "source": [
        "df_100 = pd.read_csv('/content/test_John_1.csv')\n",
        "df_100 = df_100[index1:index2]"
      ],
      "metadata": {
        "id": "WyOSpRaUV90o"
      },
      "execution_count": null,
      "outputs": []
    },
    {
      "cell_type": "code",
      "source": [
        "df_100['model_ans'] = final_ans_list\n",
        "df_100['model_text'] = ans_list"
      ],
      "metadata": {
        "id": "XlnszXi7V9yq"
      },
      "execution_count": null,
      "outputs": []
    },
    {
      "cell_type": "code",
      "source": [
        "df_100.to_csv(f'{index1}_{index2}.csv', index=False)"
      ],
      "metadata": {
        "id": "_bQYEWurv_tc"
      },
      "execution_count": null,
      "outputs": []
    },
    {
      "cell_type": "code",
      "source": [],
      "metadata": {
        "id": "gqhMi-lmv_lK"
      },
      "execution_count": null,
      "outputs": []
    },
    {
      "cell_type": "code",
      "source": [],
      "metadata": {
        "id": "9fPqeZKVWVG8"
      },
      "execution_count": null,
      "outputs": []
    }
  ]
}