{
  "metadata": {
    "kernelspec": {
      "language": "python",
      "display_name": "Python 3",
      "name": "python3"
    },
    "language_info": {
      "name": "python",
      "version": "3.10.13",
      "mimetype": "text/x-python",
      "codemirror_mode": {
        "name": "ipython",
        "version": 3
      },
      "pygments_lexer": "ipython3",
      "nbconvert_exporter": "python",
      "file_extension": ".py"
    },
    "kaggle": {
      "accelerator": "none",
      "dataSources": [
        {
          "sourceId": 75248,
          "databundleVersionId": 8348654,
          "sourceType": "competition"
        },
        {
          "sourceId": 1291303,
          "sourceType": "datasetVersion",
          "datasetId": 745938
        },
        {
          "sourceId": 8213574,
          "sourceType": "datasetVersion",
          "datasetId": 4867984
        }
      ],
      "dockerImageVersionId": 30698,
      "isInternetEnabled": true,
      "language": "python",
      "sourceType": "notebook",
      "isGpuEnabled": false
    },
    "colab": {
      "provenance": []
    }
  },
  "nbformat_minor": 0,
  "nbformat": 4,
  "cells": [
    {
      "source": [
        "\n",
        "# IMPORTANT: RUN THIS CELL IN ORDER TO IMPORT YOUR KAGGLE DATA SOURCES\n",
        "# TO THE CORRECT LOCATION (/kaggle/input) IN YOUR NOTEBOOK,\n",
        "# THEN FEEL FREE TO DELETE THIS CELL.\n",
        "# NOTE: THIS NOTEBOOK ENVIRONMENT DIFFERS FROM KAGGLE'S PYTHON\n",
        "# ENVIRONMENT SO THERE MAY BE MISSING LIBRARIES USED BY YOUR\n",
        "# NOTEBOOK.\n",
        "\n",
        "import os\n",
        "import sys\n",
        "from tempfile import NamedTemporaryFile\n",
        "from urllib.request import urlopen\n",
        "from urllib.parse import unquote, urlparse\n",
        "from urllib.error import HTTPError\n",
        "from zipfile import ZipFile\n",
        "import tarfile\n",
        "import shutil\n",
        "\n",
        "CHUNK_SIZE = 40960\n",
        "DATA_SOURCE_MAPPING = 'thai-language-image-captioning:https%3A%2F%2Fstorage.googleapis.com%2Fkaggle-competitions-data%2Fkaggle-v2%2F75248%2F8348654%2Fbundle%2Farchive.zip%3FX-Goog-Algorithm%3DGOOG4-RSA-SHA256%26X-Goog-Credential%3Dgcp-kaggle-com%2540kaggle-161607.iam.gserviceaccount.com%252F20240429%252Fauto%252Fstorage%252Fgoog4_request%26X-Goog-Date%3D20240429T171813Z%26X-Goog-Expires%3D259200%26X-Goog-SignedHeaders%3Dhost%26X-Goog-Signature%3D1b43d4226c5502b7608295899dc44af6b58c355dfc57dec9d91dd41f54e2283927ae50cb1155957b93af27b0123aeacb780af2dc967e8574013f965158660d02853817c4b91355752ae27cd675c17aaf4997becf5f71a00c0e96b62e688c3d2f23071a24c35a3dd67084e7144141ba90d5d916c94495531ba0dfd890b7b239723a692a73d944f4ba0e27bd0a9887fa771044f0600f030e2004479cbc62773e41a28c8fe78bf791ab7324d75674979fd5a96d9fa51e88d53d4ac00cbb2e28f58fc966916e3cdfcd7adcb5f7e59ebb79bdaf8a7d4809e4737a82b73100b4bc5044b9c27308bb41be8d486333e77efbaf9e90bbf763ac9ff467c2bdb0f5f80258e5,coco-test-2017-images:https%3A%2F%2Fstorage.googleapis.com%2Fkaggle-data-sets%2F745938%2F1291303%2Fbundle%2Farchive.zip%3FX-Goog-Algorithm%3DGOOG4-RSA-SHA256%26X-Goog-Credential%3Dgcp-kaggle-com%2540kaggle-161607.iam.gserviceaccount.com%252F20240429%252Fauto%252Fstorage%252Fgoog4_request%26X-Goog-Date%3D20240429T171813Z%26X-Goog-Expires%3D259200%26X-Goog-SignedHeaders%3Dhost%26X-Goog-Signature%3D08d640000c2e62682fada31fca012144fd1c8c32cdb90e1839ba4b239c78f3e9e9231185d74df62744e897f157e5681ef6e7de40061856005bba5a544d44007680e5e6e8e700f0a9c805038c9ce66b31983847d01b47066fe119d592d43fc21bef7246b8b27119859cc84dd9bacdcccff71a8360f07439f578c51e71d44b5d32a95de0955e75922434423f5f2cfe6a8be5cbb6bbc46b915d9b618925b56e0cf718c71ea8bde54f99badbd612de2c91eb2674788db4acb53607684e7a739b4ac56d05fa69f781b9a0bf6111590dbde7b1b0f59ef009b4b487fb0aded51fada536b69af2f2e28826ed0b0c44f4ee33efcad2430a3cbb3b7bd6064180f264ff71f0,expnoone:https%3A%2F%2Fstorage.googleapis.com%2Fkaggle-data-sets%2F4867984%2F8213574%2Fbundle%2Farchive.zip%3FX-Goog-Algorithm%3DGOOG4-RSA-SHA256%26X-Goog-Credential%3Dgcp-kaggle-com%2540kaggle-161607.iam.gserviceaccount.com%252F20240429%252Fauto%252Fstorage%252Fgoog4_request%26X-Goog-Date%3D20240429T171813Z%26X-Goog-Expires%3D259200%26X-Goog-SignedHeaders%3Dhost%26X-Goog-Signature%3D304091888703884536471adc6f7435f90ce530c89388067e0bd7d113e5d154024a2005fb839abf462a5e2bd3c7f6d73a2ee99c81ec1d947fc0b26a76af4a60b21e97235559291239256ce135335a766f8b9bf89800fb0bf831c09d5c20c6872059d85f99feaecea6d5e0c845b20ea9207381756e118c9475fc6ef34a6ac056532d0566aab7ddd8a64b1a68039495eb4f95437002f1f2003a863fdea8562477331128b1ca1f9ab0f7df48611976386273b1d329a86f36c62505c928592570ac21765a8ebf3917ab4715440b76afa043b96a4874092b970be4cd553bbf352b628df1045eea420ecf430ffc48a36cc5cfce39a454e265f406a60cc0e0b50f0fb4ab'\n",
        "\n",
        "KAGGLE_INPUT_PATH='/kaggle/input'\n",
        "KAGGLE_WORKING_PATH='/kaggle/working'\n",
        "KAGGLE_SYMLINK='kaggle'\n",
        "\n",
        "!umount /kaggle/input/ 2> /dev/null\n",
        "shutil.rmtree('/kaggle/input', ignore_errors=True)\n",
        "os.makedirs(KAGGLE_INPUT_PATH, 0o777, exist_ok=True)\n",
        "os.makedirs(KAGGLE_WORKING_PATH, 0o777, exist_ok=True)\n",
        "\n",
        "try:\n",
        "  os.symlink(KAGGLE_INPUT_PATH, os.path.join(\"..\", 'input'), target_is_directory=True)\n",
        "except FileExistsError:\n",
        "  pass\n",
        "try:\n",
        "  os.symlink(KAGGLE_WORKING_PATH, os.path.join(\"..\", 'working'), target_is_directory=True)\n",
        "except FileExistsError:\n",
        "  pass\n",
        "\n",
        "for data_source_mapping in DATA_SOURCE_MAPPING.split(','):\n",
        "    directory, download_url_encoded = data_source_mapping.split(':')\n",
        "    download_url = unquote(download_url_encoded)\n",
        "    filename = urlparse(download_url).path\n",
        "    destination_path = os.path.join(KAGGLE_INPUT_PATH, directory)\n",
        "    try:\n",
        "        with urlopen(download_url) as fileres, NamedTemporaryFile() as tfile:\n",
        "            total_length = fileres.headers['content-length']\n",
        "            print(f'Downloading {directory}, {total_length} bytes compressed')\n",
        "            dl = 0\n",
        "            data = fileres.read(CHUNK_SIZE)\n",
        "            while len(data) > 0:\n",
        "                dl += len(data)\n",
        "                tfile.write(data)\n",
        "                done = int(50 * dl / int(total_length))\n",
        "                sys.stdout.write(f\"\\r[{'=' * done}{' ' * (50-done)}] {dl} bytes downloaded\")\n",
        "                sys.stdout.flush()\n",
        "                data = fileres.read(CHUNK_SIZE)\n",
        "            if filename.endswith('.zip'):\n",
        "              with ZipFile(tfile) as zfile:\n",
        "                zfile.extractall(destination_path)\n",
        "            else:\n",
        "              with tarfile.open(tfile.name) as tarfile:\n",
        "                tarfile.extractall(destination_path)\n",
        "            print(f'\\nDownloaded and uncompressed: {directory}')\n",
        "    except HTTPError as e:\n",
        "        print(f'Failed to load (likely expired) {download_url} to path {destination_path}')\n",
        "        continue\n",
        "    except OSError as e:\n",
        "        print(f'Failed to load {download_url} to path {destination_path}')\n",
        "        continue\n",
        "\n",
        "print('Data source import complete.')\n"
      ],
      "metadata": {
        "id": "Mjrw_lcX3jfI"
      },
      "cell_type": "code",
      "outputs": [],
      "execution_count": null
    },
    {
      "cell_type": "code",
      "source": [
        "# This Python 3 environment comes with many helpful analytics libraries installed\n",
        "# It is defined by the kaggle/python Docker image: https://github.com/kaggle/docker-python\n",
        "# For example, here's several helpful packages to load\n",
        "\n",
        "import numpy as np # linear algebra\n",
        "import pandas as pd # data processing, CSV file I/O (e.g. pd.read_csv)\n",
        "\n",
        "# Input data files are available in the read-only \"../input/\" directory\n",
        "# For example, running this (by clicking run or pressing Shift+Enter) will list all files under the input directory\n",
        "\n",
        "import os\n",
        "for dirname, _, filenames in os.walk('/kaggle/input'):\n",
        "    for filename in filenames:\n",
        "        print(os.path.join(dirname, filename))\n",
        "\n",
        "# You can write up to 20GB to the current directory (/kaggle/working/) that gets preserved as output when you create a version using \"Save & Run All\"\n",
        "# You can also write temporary files to /kaggle/temp/, but they won't be saved outside of the current session"
      ],
      "metadata": {
        "_uuid": "8f2839f25d086af736a60e9eeb907d3b93b6e0e5",
        "_cell_guid": "b1076dfc-b9ad-4769-8c92-a6c4dae69d19",
        "trusted": true,
        "id": "slSPl_LA3jfT"
      },
      "execution_count": null,
      "outputs": []
    },
    {
      "cell_type": "markdown",
      "source": [
        "# 1. Become Data"
      ],
      "metadata": {
        "id": "94pd2scP3jfV"
      }
    },
    {
      "cell_type": "code",
      "source": [
        "import numpy as np # linear algebra\n",
        "import pandas as pd\n",
        "\n",
        "sp_sm = pd.read_csv('/kaggle/input/thai-language-image-captioning/sample_submission.csv')\n",
        "sp_sm.head()"
      ],
      "metadata": {
        "execution": {
          "iopub.status.busy": "2024-04-23T03:07:59.994738Z",
          "iopub.execute_input": "2024-04-23T03:07:59.995189Z",
          "iopub.status.idle": "2024-04-23T03:08:00.057422Z",
          "shell.execute_reply.started": "2024-04-23T03:07:59.995153Z",
          "shell.execute_reply": "2024-04-23T03:08:00.05605Z"
        },
        "trusted": true,
        "id": "MDKX3vXx3jfY"
      },
      "execution_count": null,
      "outputs": []
    },
    {
      "cell_type": "code",
      "source": [
        "import json\n",
        "from tqdm import tqdm\n",
        "with open('/kaggle/input/thai-language-image-captioning/ipu24_v0.4.1_coco.json', 'r', encoding='utf-8') as f:\n",
        "    data = json.load(f)\n",
        "\n",
        "dicts_train = {\n",
        "    'name': [],\n",
        "#     'text_1': [],\n",
        "#     'text_2': [],\n",
        "#     'text_3': [],\n",
        "}\n",
        "dicts_validaton = {\n",
        "    'name': [],\n",
        "#     'text_1': [],\n",
        "#     'text_2': [],\n",
        "#     'text_3': [],\n",
        "}\n",
        "for key, value in tqdm(data.items()):\n",
        "    if \"train\" in key:\n",
        "        dicts_train['name'].append('/kaggle/input/coco-2017-dataset/coco2017/' + key + '.jpg')\n",
        "    elif \"val\" in key:\n",
        "        dicts_validaton['name'].append('/kaggle/input/coco-2017-dataset/coco2017/' + key + '.jpg')\n",
        "\n",
        "data_train_1 = pd.DataFrame(dicts_train)\n",
        "data_validaton = pd.DataFrame(dicts_validaton)\n",
        "data_train_1"
      ],
      "metadata": {
        "id": "qLiibozw3jfZ"
      },
      "execution_count": null,
      "outputs": []
    },
    {
      "cell_type": "code",
      "source": [
        "import os\n",
        "def walk_through_dir(dir_path):\n",
        "  \"\"\"\n",
        "  Walks through dir_path returning its contents.\n",
        "  Args:\n",
        "    dir_path (str or pathlib.Path): target directory\n",
        "\n",
        "  Returns:\n",
        "    A print out of:\n",
        "      number of subdiretories in dir_path\n",
        "      number of images (files) in each subdirectory\n",
        "      name of each subdirectory\n",
        "  \"\"\"\n",
        "  for dirpath, dirnames, filenames in os.walk(dir_path):\n",
        "    print(f\"There are {len(dirnames)} directories and {len(filenames)} images in '{dirpath}'.\")"
      ],
      "metadata": {
        "execution": {
          "iopub.status.busy": "2024-04-22T05:30:50.621289Z",
          "iopub.execute_input": "2024-04-22T05:30:50.621671Z",
          "iopub.status.idle": "2024-04-22T05:30:50.63127Z",
          "shell.execute_reply.started": "2024-04-22T05:30:50.621643Z",
          "shell.execute_reply": "2024-04-22T05:30:50.630386Z"
        },
        "trusted": true,
        "id": "B58p1GlO3jfa"
      },
      "execution_count": null,
      "outputs": []
    },
    {
      "cell_type": "code",
      "source": [
        "walk_through_dir(\"/kaggle/input/thai-language-image-captioning/test/test\")"
      ],
      "metadata": {
        "execution": {
          "iopub.status.busy": "2024-04-22T05:30:52.885603Z",
          "iopub.execute_input": "2024-04-22T05:30:52.886606Z",
          "iopub.status.idle": "2024-04-22T05:30:56.675934Z",
          "shell.execute_reply.started": "2024-04-22T05:30:52.886561Z",
          "shell.execute_reply": "2024-04-22T05:30:56.674796Z"
        },
        "trusted": true,
        "id": "W6_zriKr3jfg"
      },
      "execution_count": null,
      "outputs": []
    },
    {
      "cell_type": "code",
      "source": [
        "from pathlib import Path\n",
        "test_dir = Path(\"/kaggle/input/thai-language-image-captioning/test/test\")\n",
        "test_dir"
      ],
      "metadata": {
        "execution": {
          "iopub.status.busy": "2024-04-22T05:50:57.281086Z",
          "iopub.execute_input": "2024-04-22T05:50:57.281776Z",
          "iopub.status.idle": "2024-04-22T05:50:57.28804Z",
          "shell.execute_reply.started": "2024-04-22T05:50:57.281734Z",
          "shell.execute_reply": "2024-04-22T05:50:57.287242Z"
        },
        "trusted": true,
        "id": "BkIh5MGG3jfj"
      },
      "execution_count": null,
      "outputs": []
    },
    {
      "cell_type": "code",
      "source": [
        "import random\n",
        "from PIL import Image\n",
        "import glob\n",
        "\n",
        "# Set seed\n",
        "random.seed(888) # <- try changing this and see what happens\n",
        "\n",
        "# 1. Get all image paths (* means \"any combination\")\n",
        "image_path_list = list(test_dir.glob(\"*/*.jpg\"))\n",
        "\n",
        "# 2. Get random image path\n",
        "random_image_path = random.choice(image_path_list)\n",
        "\n",
        "# 3. Get image class from path name (the image class is the name of the directory where the image is stored)\n",
        "image_class = random_image_path.parent.stem\n",
        "\n",
        "# 4. Open image\n",
        "img = Image.open(random_image_path)\n",
        "\n",
        "# 5. Print metadata\n",
        "print(f\"Random image path: {random_image_path}\")\n",
        "print(f\"Image class: {image_class}\")\n",
        "print(f\"Image height: {img.height}\")\n",
        "print(f\"Image width: {img.width}\")\n",
        "img"
      ],
      "metadata": {
        "execution": {
          "iopub.status.busy": "2024-04-22T05:51:39.72184Z",
          "iopub.execute_input": "2024-04-22T05:51:39.72227Z",
          "iopub.status.idle": "2024-04-22T05:51:39.884732Z",
          "shell.execute_reply.started": "2024-04-22T05:51:39.722239Z",
          "shell.execute_reply": "2024-04-22T05:51:39.883561Z"
        },
        "trusted": true,
        "id": "v3qlMAf13jfl"
      },
      "execution_count": null,
      "outputs": []
    },
    {
      "cell_type": "code",
      "source": [
        "import numpy as np\n",
        "import matplotlib.pyplot as plt\n",
        "\n",
        "# Turn the image into an array\n",
        "img_as_array = np.asarray(img)\n",
        "\n",
        "# Plot the image with matplotlib\n",
        "plt.figure(figsize=(10, 7))\n",
        "plt.imshow(img_as_array)\n",
        "plt.title(f\"Image class: {image_class} | Image shape: {img_as_array.shape} -> [height, width, color_channels]\")\n",
        "plt.axis(False);"
      ],
      "metadata": {
        "execution": {
          "iopub.status.busy": "2024-04-22T05:53:20.75151Z",
          "iopub.execute_input": "2024-04-22T05:53:20.752213Z",
          "iopub.status.idle": "2024-04-22T05:53:21.308105Z",
          "shell.execute_reply.started": "2024-04-22T05:53:20.75218Z",
          "shell.execute_reply": "2024-04-22T05:53:21.307215Z"
        },
        "trusted": true,
        "id": "m9b1u5e53jfn"
      },
      "execution_count": null,
      "outputs": []
    },
    {
      "cell_type": "markdown",
      "source": [
        "# 2. Tranforming Data"
      ],
      "metadata": {
        "id": "vSax7eSS3jfp"
      }
    },
    {
      "cell_type": "code",
      "source": [
        "import torch\n",
        "from torch.utils.data import DataLoader\n",
        "from torchvision import datasets, transforms"
      ],
      "metadata": {
        "execution": {
          "iopub.status.busy": "2024-04-22T06:03:44.561361Z",
          "iopub.execute_input": "2024-04-22T06:03:44.562196Z",
          "iopub.status.idle": "2024-04-22T06:03:44.56683Z",
          "shell.execute_reply.started": "2024-04-22T06:03:44.562163Z",
          "shell.execute_reply": "2024-04-22T06:03:44.56583Z"
        },
        "trusted": true,
        "id": "W4M1tLc03jfq"
      },
      "execution_count": null,
      "outputs": []
    },
    {
      "cell_type": "code",
      "source": [
        "# Write transform for image\n",
        "data_transform = transforms.Compose([\n",
        "    # Resize the images to 64x64\n",
        "    transforms.Resize(size=(64, 64)),\n",
        "    # Flip the images randomly on the horizontal\n",
        "    transforms.RandomHorizontalFlip(p=0.5), # p = probability of flip, 0.5 = 50% chance\n",
        "    # Turn the image into a torch.Tensor\n",
        "    transforms.ToTensor() # this also converts all pixel values from 0 to 255 to be between 0.0 and 1.0\n",
        "])"
      ],
      "metadata": {
        "execution": {
          "iopub.status.busy": "2024-04-22T06:03:47.456031Z",
          "iopub.execute_input": "2024-04-22T06:03:47.456454Z",
          "iopub.status.idle": "2024-04-22T06:03:47.462839Z",
          "shell.execute_reply.started": "2024-04-22T06:03:47.456422Z",
          "shell.execute_reply": "2024-04-22T06:03:47.461502Z"
        },
        "trusted": true,
        "id": "79M1zNk-3jfr"
      },
      "execution_count": null,
      "outputs": []
    },
    {
      "cell_type": "code",
      "source": [
        "def plot_transformed_images(image_paths, transform, n=3, seed=56):\n",
        "    \"\"\"Plots a series of random images from image_paths.\n",
        "\n",
        "    Will open n image paths from image_paths, transform them\n",
        "    with transform and plot them side by side.\n",
        "\n",
        "    Args:\n",
        "        image_paths (list): List of target image paths.\n",
        "        transform (PyTorch Transforms): Transforms to apply to images.\n",
        "        n (int, optional): Number of images to plot. Defaults to 3.\n",
        "        seed (int, optional): Random seed for the random generator. Defaults to 42.\n",
        "    \"\"\"\n",
        "    random.seed(seed)\n",
        "    random_image_paths = random.sample(image_paths, k=n)\n",
        "    for image_path in random_image_paths:\n",
        "        with Image.open(image_path) as f:\n",
        "            fig, ax = plt.subplots(1, 2)\n",
        "            ax[0].imshow(f)\n",
        "            ax[0].set_title(f\"Original \\nSize: {f.size}\")\n",
        "            ax[0].axis(\"off\")\n",
        "\n",
        "            # Transform and plot image\n",
        "            # Note: permute() will change shape of image to suit matplotlib\n",
        "            # (PyTorch default is [C, H, W] but Matplotlib is [H, W, C])\n",
        "            transformed_image = transform(f).permute(1, 2, 0)\n",
        "            ax[1].imshow(transformed_image)\n",
        "            ax[1].set_title(f\"Transformed \\nSize: {transformed_image.shape}\")\n",
        "            ax[1].axis(\"off\")\n",
        "\n",
        "            fig.suptitle(f\"Class: {image_path.parent.stem}\", fontsize=16)\n",
        "\n",
        "plot_transformed_images(image_path_list,\n",
        "                        transform=data_transform,\n",
        "                        n=3)"
      ],
      "metadata": {
        "execution": {
          "iopub.status.busy": "2024-04-22T06:05:06.290667Z",
          "iopub.execute_input": "2024-04-22T06:05:06.291449Z",
          "iopub.status.idle": "2024-04-22T06:05:07.457555Z",
          "shell.execute_reply.started": "2024-04-22T06:05:06.291417Z",
          "shell.execute_reply": "2024-04-22T06:05:07.456423Z"
        },
        "trusted": true,
        "id": "Au5nzWZh3jfs"
      },
      "execution_count": null,
      "outputs": []
    },
    {
      "cell_type": "markdown",
      "source": [
        "# Loading Image Data Using ImageFolder"
      ],
      "metadata": {
        "id": "ImUcycFt3jfs"
      }
    },
    {
      "cell_type": "code",
      "source": [
        "# Use ImageFolder to create dataset(s)\n",
        "from torchvision import datasets\n",
        "# train_data = datasets.ImageFolder(root=train_dir, # target folder of images\n",
        "#                                   transform=data_transform, # transforms to perform on data (images)\n",
        "#                                   target_transform=None) # transforms to perform on labels (if necessary)\n",
        "\n",
        "test_data = datasets.ImageFolder(root=test_dir,\n",
        "                                 transform=data_transform)\n",
        "\n",
        "# print(f\"Train data:\\n{train_data}\\nTest data:\\n{test_data}\")\n",
        "print(f\"Test data:\\n{test_data}\")"
      ],
      "metadata": {
        "execution": {
          "iopub.status.busy": "2024-04-22T06:10:52.078797Z",
          "iopub.execute_input": "2024-04-22T06:10:52.079249Z",
          "iopub.status.idle": "2024-04-22T06:10:56.207791Z",
          "shell.execute_reply.started": "2024-04-22T06:10:52.079219Z",
          "shell.execute_reply": "2024-04-22T06:10:56.20628Z"
        },
        "trusted": true,
        "id": "ZQeXojQu3jft"
      },
      "execution_count": null,
      "outputs": []
    },
    {
      "cell_type": "code",
      "source": [
        "# Get class names as a list\n",
        "class_names = test_data.classes\n",
        "class_names"
      ],
      "metadata": {
        "execution": {
          "iopub.status.busy": "2024-04-22T06:19:35.975389Z",
          "iopub.execute_input": "2024-04-22T06:19:35.975812Z",
          "iopub.status.idle": "2024-04-22T06:19:35.983457Z",
          "shell.execute_reply.started": "2024-04-22T06:19:35.975783Z",
          "shell.execute_reply": "2024-04-22T06:19:35.982334Z"
        },
        "trusted": true,
        "id": "_Go8kNFO3jft"
      },
      "execution_count": null,
      "outputs": []
    },
    {
      "cell_type": "code",
      "source": [
        "# Can also get class names as a dict\n",
        "class_dict = test_data.class_to_idx\n",
        "class_dict"
      ],
      "metadata": {
        "execution": {
          "iopub.status.busy": "2024-04-22T06:19:48.494024Z",
          "iopub.execute_input": "2024-04-22T06:19:48.494439Z",
          "iopub.status.idle": "2024-04-22T06:19:48.502165Z",
          "shell.execute_reply.started": "2024-04-22T06:19:48.494408Z",
          "shell.execute_reply": "2024-04-22T06:19:48.500784Z"
        },
        "trusted": true,
        "id": "L4Q73TC63jfu"
      },
      "execution_count": null,
      "outputs": []
    },
    {
      "cell_type": "code",
      "source": [
        "# Check the lengths\n",
        "len(test_data)"
      ],
      "metadata": {
        "execution": {
          "iopub.status.busy": "2024-04-22T06:20:18.788212Z",
          "iopub.execute_input": "2024-04-22T06:20:18.788786Z",
          "iopub.status.idle": "2024-04-22T06:20:18.794644Z",
          "shell.execute_reply.started": "2024-04-22T06:20:18.788749Z",
          "shell.execute_reply": "2024-04-22T06:20:18.793772Z"
        },
        "trusted": true,
        "id": "FkKcRX4X3jfu"
      },
      "execution_count": null,
      "outputs": []
    },
    {
      "cell_type": "code",
      "source": [
        "img, label = test_data[0][0], test_data[0][1]\n",
        "print(f\"Image tensor:\\n{img}\")\n",
        "print(f\"Image shape: {img.shape}\")\n",
        "print(f\"Image datatype: {img.dtype}\")\n",
        "print(f\"Image label: {label}\")\n",
        "print(f\"Label datatype: {type(label)}\")"
      ],
      "metadata": {
        "execution": {
          "iopub.status.busy": "2024-04-22T06:24:32.335461Z",
          "iopub.execute_input": "2024-04-22T06:24:32.335994Z",
          "iopub.status.idle": "2024-04-22T06:24:32.437859Z",
          "shell.execute_reply.started": "2024-04-22T06:24:32.335939Z",
          "shell.execute_reply": "2024-04-22T06:24:32.436692Z"
        },
        "trusted": true,
        "id": "yVThffgC3jfu"
      },
      "execution_count": null,
      "outputs": []
    },
    {
      "cell_type": "code",
      "source": [
        "# Rearrange the order of dimensions\n",
        "img_permute = img.permute(1, 2, 0)\n",
        "\n",
        "# Print out different shapes (before and after permute)\n",
        "print(f\"Original shape: {img.shape} -> [color_channels, height, width]\")\n",
        "print(f\"Image permute shape: {img_permute.shape} -> [height, width, color_channels]\")\n",
        "\n",
        "# Plot the image\n",
        "plt.figure(figsize=(10, 7))\n",
        "plt.imshow(img.permute(1, 2, 0))\n",
        "plt.axis(\"off\")\n",
        "plt.title(class_names[label], fontsize=14);"
      ],
      "metadata": {
        "execution": {
          "iopub.status.busy": "2024-04-22T06:26:25.832019Z",
          "iopub.execute_input": "2024-04-22T06:26:25.833505Z",
          "iopub.status.idle": "2024-04-22T06:26:26.076244Z",
          "shell.execute_reply.started": "2024-04-22T06:26:25.833455Z",
          "shell.execute_reply": "2024-04-22T06:26:26.075149Z"
        },
        "trusted": true,
        "id": "rbpej_lq3jfv"
      },
      "execution_count": null,
      "outputs": []
    },
    {
      "cell_type": "code",
      "source": [
        "# Turn train and test Datasets into DataLoaders\n",
        "from torch.utils.data import DataLoader\n",
        "# train_dataloader = DataLoader(dataset=train_data,\n",
        "#                               batch_size=1, # how many samples per batch?\n",
        "#                               num_workers=1, # how many subprocesses to use for data loading? (higher = more)\n",
        "#                               shuffle=True) # shuffle the data?\n",
        "\n",
        "test_dataloader = DataLoader(dataset=test_data,\n",
        "                             batch_size=16,\n",
        "                             shuffle=False) # don't usually need to shuffle testing data\n",
        "\n",
        "# train_dataloader, test_dataloader\n",
        "test_dataloader"
      ],
      "metadata": {
        "execution": {
          "iopub.status.busy": "2024-04-22T06:48:03.746248Z",
          "iopub.execute_input": "2024-04-22T06:48:03.746659Z",
          "iopub.status.idle": "2024-04-22T06:48:03.756249Z",
          "shell.execute_reply.started": "2024-04-22T06:48:03.746628Z",
          "shell.execute_reply": "2024-04-22T06:48:03.755029Z"
        },
        "trusted": true,
        "id": "_YUiu6_n3jfw"
      },
      "execution_count": null,
      "outputs": []
    },
    {
      "cell_type": "code",
      "source": [
        "img, label = next(iter(test_dataloader))\n",
        "\n",
        "# Batch size will now be 1, try changing the batch_size parameter above and see what happens\n",
        "print(f\"Image shape: {img.shape} -> [batch_size, color_channels, height, width]\")\n",
        "print(f\"Label shape: {label.shape}\")"
      ],
      "metadata": {
        "execution": {
          "iopub.status.busy": "2024-04-22T06:48:28.421059Z",
          "iopub.execute_input": "2024-04-22T06:48:28.421475Z",
          "iopub.status.idle": "2024-04-22T06:48:29.790644Z",
          "shell.execute_reply.started": "2024-04-22T06:48:28.421436Z",
          "shell.execute_reply": "2024-04-22T06:48:29.789603Z"
        },
        "trusted": true,
        "id": "4TMOUwVT3jfw"
      },
      "execution_count": null,
      "outputs": []
    },
    {
      "cell_type": "markdown",
      "source": [
        "# Loading Image Data with a Custom Dataset"
      ],
      "metadata": {
        "id": "CbXxXKMPXLhh"
      }
    },
    {
      "cell_type": "code",
      "source": [
        "import os\n",
        "import pathlib\n",
        "import torch\n",
        "\n",
        "from PIL import Image\n",
        "from torch.utils.data import Dataset\n",
        "from torchvision import transforms\n",
        "from typing import Tuple, Dict, List"
      ],
      "metadata": {
        "execution": {
          "iopub.status.busy": "2024-04-22T06:49:30.273392Z",
          "iopub.execute_input": "2024-04-22T06:49:30.273875Z",
          "iopub.status.idle": "2024-04-22T06:49:30.280601Z",
          "shell.execute_reply.started": "2024-04-22T06:49:30.273837Z",
          "shell.execute_reply": "2024-04-22T06:49:30.279231Z"
        },
        "trusted": true,
        "id": "tZdelyN23jfx"
      },
      "execution_count": null,
      "outputs": []
    },
    {
      "cell_type": "code",
      "source": [
        "# Instance of torchvision.datasets.ImageFolder()\n",
        "test_data.classes, test_data.class_to_idx"
      ],
      "metadata": {
        "execution": {
          "iopub.status.busy": "2024-04-22T06:49:44.722104Z",
          "iopub.execute_input": "2024-04-22T06:49:44.722523Z",
          "iopub.status.idle": "2024-04-22T06:49:44.730166Z",
          "shell.execute_reply.started": "2024-04-22T06:49:44.722491Z",
          "shell.execute_reply": "2024-04-22T06:49:44.729002Z"
        },
        "trusted": true,
        "id": "Yjj9183k3jfy"
      },
      "execution_count": null,
      "outputs": []
    },
    {
      "cell_type": "code",
      "source": [
        "# Setup path for target directory\n",
        "target_directory = test_dir\n",
        "print(f\"Target directory: {target_directory}\")\n",
        "\n",
        "# Get the class names from the target directory\n",
        "class_names_found = sorted([entry.name for entry in list(os.scandir(test_dir))])\n",
        "print(f\"Class names found: {class_names_found}\")"
      ],
      "metadata": {
        "execution": {
          "iopub.status.busy": "2024-04-22T06:52:26.711275Z",
          "iopub.execute_input": "2024-04-22T06:52:26.711889Z",
          "iopub.status.idle": "2024-04-22T06:52:26.721763Z",
          "shell.execute_reply.started": "2024-04-22T06:52:26.711858Z",
          "shell.execute_reply": "2024-04-22T06:52:26.720444Z"
        },
        "trusted": true,
        "id": "-COOPydX3jfz"
      },
      "execution_count": null,
      "outputs": []
    },
    {
      "cell_type": "markdown",
      "source": [],
      "metadata": {
        "id": "RqAbjSpp3jfz"
      }
    },
    {
      "cell_type": "markdown",
      "source": [
        "# Try to Predict"
      ],
      "metadata": {
        "id": "P5EZg5Ht3jf0"
      }
    },
    {
      "cell_type": "code",
      "source": [
        "sp_sm = pd.read_csv('/kaggle/input/thai-language-image-captioning/sample_submission.csv')\n",
        "sp_sm"
      ],
      "metadata": {
        "id": "jaMkiW4m3jf0"
      },
      "execution_count": null,
      "outputs": []
    },
    {
      "cell_type": "code",
      "source": [
        "sp_sm['caption'][2]"
      ],
      "metadata": {
        "execution": {
          "iopub.status.busy": "2024-04-23T15:27:51.053493Z",
          "iopub.execute_input": "2024-04-23T15:27:51.05388Z",
          "iopub.status.idle": "2024-04-23T15:27:51.062529Z",
          "shell.execute_reply.started": "2024-04-23T15:27:51.053848Z",
          "shell.execute_reply": "2024-04-23T15:27:51.060876Z"
        },
        "trusted": true,
        "id": "OWeR4Yfy3jf0"
      },
      "execution_count": null,
      "outputs": []
    },
    {
      "cell_type": "markdown",
      "source": [
        "- old"
      ],
      "metadata": {
        "id": "4mjp1bX83jf2"
      }
    },
    {
      "cell_type": "code",
      "source": [
        "from transformers import AutoProcessor, BlipForConditionalGeneration\n",
        "\n",
        "processor = AutoProcessor.from_pretrained(\"Salesforce/blip-image-captioning-base\")\n",
        "model = BlipForConditionalGeneration.from_pretrained(\"Salesforce/blip-image-captioning-base\", device_map=\"cuda\")"
      ],
      "metadata": {
        "execution": {
          "iopub.status.busy": "2024-04-23T04:12:35.562416Z",
          "iopub.execute_input": "2024-04-23T04:12:35.562801Z",
          "iopub.status.idle": "2024-04-23T04:12:37.322482Z",
          "shell.execute_reply.started": "2024-04-23T04:12:35.562773Z",
          "shell.execute_reply": "2024-04-23T04:12:37.321665Z"
        },
        "trusted": true,
        "id": "YPr43N7P3jf2"
      },
      "execution_count": null,
      "outputs": []
    },
    {
      "cell_type": "code",
      "source": [
        "from tqdm import tqdm\n",
        "from PIL import Image\n",
        "\n",
        "def predicts(image):\n",
        "    inputs = processor(images=image, return_tensors=\"pt\").to(\"cuda\")\n",
        "    pixel_values = inputs.pixel_values\n",
        "    generated_ids = model.generate(pixel_values=pixel_values, max_length=200)\n",
        "    generated_caption = processor.batch_decode(generated_ids, skip_special_tokens=True)[0]\n",
        "    return generated_caption\n",
        "\n",
        "ans = []\n",
        "for i in tqdm(sp_sm['image_id']):\n",
        "    if 'test2017' in i:\n",
        "        image_url = '/kaggle/input/coco-test-2017-images/' + i + '.jpg'\n",
        "        image = Image.open(image_url)\n",
        "        generated = predicts(image)\n",
        "        ans.append(generated)\n",
        "    else:\n",
        "        image_url = '/kaggle/input/thai-language-image-captioning/test/' + i + '.jpg'\n",
        "        image = Image.open(image_url)\n",
        "        generated = predicts(image)\n",
        "        ans.append(generated)\n"
      ],
      "metadata": {
        "trusted": true,
        "id": "bZICTXfX3jf3"
      },
      "execution_count": null,
      "outputs": []
    },
    {
      "cell_type": "code",
      "source": [
        "ans"
      ],
      "metadata": {
        "execution": {
          "iopub.status.busy": "2024-04-23T16:57:44.753667Z",
          "iopub.execute_input": "2024-04-23T16:57:44.754247Z",
          "iopub.status.idle": "2024-04-23T16:57:44.760074Z",
          "shell.execute_reply.started": "2024-04-23T16:57:44.754218Z",
          "shell.execute_reply": "2024-04-23T16:57:44.759248Z"
        },
        "trusted": true,
        "id": "D4EJ1Bdo3jf3"
      },
      "execution_count": null,
      "outputs": []
    },
    {
      "cell_type": "code",
      "source": [
        "sp_sm['caption'][3:] = ans[3:]\n",
        "sp_sm"
      ],
      "metadata": {
        "execution": {
          "iopub.status.busy": "2024-04-23T07:11:58.934839Z",
          "iopub.execute_input": "2024-04-23T07:11:58.935589Z",
          "iopub.status.idle": "2024-04-23T07:11:58.958967Z",
          "shell.execute_reply.started": "2024-04-23T07:11:58.935557Z",
          "shell.execute_reply": "2024-04-23T07:11:58.957866Z"
        },
        "trusted": true,
        "id": "ZVJQei333jf4"
      },
      "execution_count": null,
      "outputs": []
    },
    {
      "cell_type": "markdown",
      "source": [
        "- new"
      ],
      "metadata": {
        "id": "3qe1bDrv3jf5"
      }
    },
    {
      "cell_type": "code",
      "source": [
        "import numpy as np # linear algebra\n",
        "import pandas as pd\n",
        "\n",
        "sp_sm = pd.read_csv('/kaggle/input/thai-language-image-captioning/sample_submission.csv')\n",
        "sp_sm"
      ],
      "metadata": {
        "execution": {
          "iopub.status.busy": "2024-04-25T15:03:54.007351Z",
          "iopub.execute_input": "2024-04-25T15:03:54.00818Z",
          "iopub.status.idle": "2024-04-25T15:03:54.052245Z",
          "shell.execute_reply.started": "2024-04-25T15:03:54.008143Z",
          "shell.execute_reply": "2024-04-25T15:03:54.05135Z"
        },
        "trusted": true,
        "id": "4hKX7b4I3jf5"
      },
      "execution_count": null,
      "outputs": []
    },
    {
      "cell_type": "code",
      "source": [
        "food_travel = sp_sm.copy()\n",
        "test2017_count = 0\n",
        "for i in range(len(sp_sm)):\n",
        "    if \"test2017\" in sp_sm['image_id'][i]:\n",
        "        test2017_count += 1\n",
        "\n",
        "food_travel = sp_sm[test2017_count:]\n",
        "food_travel"
      ],
      "metadata": {
        "execution": {
          "iopub.status.busy": "2024-04-25T14:18:09.542232Z",
          "iopub.execute_input": "2024-04-25T14:18:09.542598Z",
          "iopub.status.idle": "2024-04-25T14:18:10.031609Z",
          "shell.execute_reply.started": "2024-04-25T14:18:09.542568Z",
          "shell.execute_reply": "2024-04-25T14:18:10.030828Z"
        },
        "trusted": true,
        "id": "Ul2U0M7Q3jf5"
      },
      "execution_count": null,
      "outputs": []
    },
    {
      "cell_type": "code",
      "source": [
        "# df_food = food_travel[food_travel['image_id'].str.contains('food', case=False)].reset_index(drop=True)\n",
        "# df_food"
      ],
      "metadata": {
        "execution": {
          "iopub.status.busy": "2024-04-25T13:18:23.931083Z",
          "iopub.execute_input": "2024-04-25T13:18:23.931902Z",
          "iopub.status.idle": "2024-04-25T13:18:23.956398Z",
          "shell.execute_reply.started": "2024-04-25T13:18:23.931863Z",
          "shell.execute_reply": "2024-04-25T13:18:23.955555Z"
        },
        "trusted": true,
        "id": "znsHtBPx3jgK"
      },
      "execution_count": null,
      "outputs": []
    },
    {
      "cell_type": "code",
      "source": [
        "# df_travel = food_travel[food_travel['image_id'].str.contains('food', case=False)].reset_index(drop=True)\n",
        "# df_travel"
      ],
      "metadata": {
        "id": "XLSFTDnB3jgK"
      },
      "execution_count": null,
      "outputs": []
    },
    {
      "cell_type": "code",
      "source": [
        "!pip install -q git+https://github.com/huggingface/peft.git transformers bitsandbytes datasets"
      ],
      "metadata": {
        "execution": {
          "iopub.status.busy": "2024-04-29T17:07:01.508349Z",
          "iopub.execute_input": "2024-04-29T17:07:01.508919Z",
          "iopub.status.idle": "2024-04-29T17:07:34.022828Z",
          "shell.execute_reply.started": "2024-04-29T17:07:01.508886Z",
          "shell.execute_reply": "2024-04-29T17:07:34.021822Z"
        },
        "trusted": true,
        "id": "qyc5HP_C3jgL"
      },
      "execution_count": null,
      "outputs": []
    },
    {
      "cell_type": "code",
      "source": [
        "!pip install -i https://pypi.org/simple/ bitsandbytes"
      ],
      "metadata": {
        "execution": {
          "iopub.status.busy": "2024-04-29T17:11:18.427223Z",
          "iopub.execute_input": "2024-04-29T17:11:18.427657Z",
          "iopub.status.idle": "2024-04-29T17:11:30.695382Z",
          "shell.execute_reply.started": "2024-04-29T17:11:18.427626Z",
          "shell.execute_reply": "2024-04-29T17:11:30.694238Z"
        },
        "trusted": true,
        "id": "FtjWH6GW3jgM"
      },
      "execution_count": null,
      "outputs": []
    },
    {
      "cell_type": "code",
      "source": [
        "!pip install huggingface_hub"
      ],
      "metadata": {
        "trusted": true,
        "id": "AqKlVBiN3jgM"
      },
      "execution_count": null,
      "outputs": []
    },
    {
      "cell_type": "markdown",
      "source": [
        "- boss git large coco"
      ],
      "metadata": {
        "id": "_MEgw3zv3jgM"
      }
    },
    {
      "cell_type": "code",
      "source": [
        "from transformers import AutoProcessor, GitForCausalLM\n",
        "\n",
        "model = GitForCausalLM.from_pretrained(\"MagiBoss/EXP-Git-large-ip24\", device_map=0)\n",
        "processor = AutoProcessor.from_pretrained(\"microsoft/git-large-coco\")"
      ],
      "metadata": {
        "trusted": true,
        "id": "MDLIetzY3jgN"
      },
      "execution_count": null,
      "outputs": []
    },
    {
      "cell_type": "code",
      "source": [
        "from PIL import Image\n",
        "\n",
        "raw_image = Image.open('/kaggle/input/thai-language-image-captioning/test/test/travel/08002.jpg').convert('RGB')\n",
        "inputs = processor(images=raw_image, return_tensors=\"pt\").to(\"cuda\")\n",
        "pixel_values = inputs.pixel_values\n",
        "generated_ids = model.generate(pixel_values=pixel_values, max_length=128)\n",
        "generated_caption = processor.batch_decode(generated_ids, skip_special_tokens=True)\n",
        "generated_caption"
      ],
      "metadata": {
        "execution": {
          "iopub.status.busy": "2024-04-25T12:39:43.991555Z",
          "iopub.execute_input": "2024-04-25T12:39:43.992232Z",
          "iopub.status.idle": "2024-04-25T12:39:47.360637Z",
          "shell.execute_reply.started": "2024-04-25T12:39:43.992199Z",
          "shell.execute_reply": "2024-04-25T12:39:47.359628Z"
        },
        "trusted": true,
        "id": "HgOpq82W3jgN"
      },
      "execution_count": null,
      "outputs": []
    },
    {
      "cell_type": "code",
      "source": [
        "raw_image"
      ],
      "metadata": {
        "execution": {
          "iopub.status.busy": "2024-04-25T12:40:23.442022Z",
          "iopub.execute_input": "2024-04-25T12:40:23.442417Z",
          "iopub.status.idle": "2024-04-25T12:40:23.540895Z",
          "shell.execute_reply.started": "2024-04-25T12:40:23.442387Z",
          "shell.execute_reply": "2024-04-25T12:40:23.539985Z"
        },
        "trusted": true,
        "id": "00s5674i3jgO"
      },
      "execution_count": null,
      "outputs": []
    },
    {
      "cell_type": "code",
      "source": [
        "# model = GitForCausalLM.from_pretrained(\"microsoft/git-large-coco\", device_map=0)\n",
        "\n",
        "# raw_image = Image.open('/kaggle/input/thai-language-image-captioning/test/test/food/00011.jpg').convert('RGB')\n",
        "# inputs = processor(images=raw_image, return_tensors=\"pt\").to(\"cuda\")\n",
        "# pixel_values = inputs.pixel_values\n",
        "# generated_ids = model.generate(pixel_values=pixel_values, max_length=128)\n",
        "# generated_caption = processor.batch_decode(generated_ids, skip_special_tokens=True)\n",
        "# generated_caption"
      ],
      "metadata": {
        "execution": {
          "iopub.status.busy": "2024-04-25T09:27:52.411733Z",
          "iopub.execute_input": "2024-04-25T09:27:52.412327Z",
          "iopub.status.idle": "2024-04-25T09:28:00.380026Z",
          "shell.execute_reply.started": "2024-04-25T09:27:52.412293Z",
          "shell.execute_reply": "2024-04-25T09:28:00.379032Z"
        },
        "trusted": true,
        "id": "BfqvoS9x3jgO"
      },
      "execution_count": null,
      "outputs": []
    },
    {
      "cell_type": "markdown",
      "source": [
        "- clean git large coco (+ Lora)"
      ],
      "metadata": {
        "id": "mO9i3gy23jgO"
      }
    },
    {
      "cell_type": "code",
      "source": [
        "from huggingface_hub import notebook_login\n",
        "notebook_login()"
      ],
      "metadata": {
        "execution": {
          "iopub.status.busy": "2024-04-25T15:04:28.033672Z",
          "iopub.execute_input": "2024-04-25T15:04:28.034433Z",
          "iopub.status.idle": "2024-04-25T15:04:28.061259Z",
          "shell.execute_reply.started": "2024-04-25T15:04:28.0344Z",
          "shell.execute_reply": "2024-04-25T15:04:28.06041Z"
        },
        "trusted": true,
        "id": "2RBiR85A3jgP"
      },
      "execution_count": null,
      "outputs": []
    },
    {
      "cell_type": "code",
      "source": [
        "from peft import PeftModel, PeftConfig\n",
        "from transformers import AutoProcessor, GitForCausalLM\n",
        "\n",
        "peft_food_clean = \"PakinClean/git-large-coco-food\"\n",
        "peft_travel_clean = \"PakinClean/git-large-coco-travel\"\n",
        "\n",
        "config_food_clean = PeftConfig.from_pretrained(peft_food_clean)\n",
        "config_travel_clean = PeftConfig.from_pretrained(peft_travel_clean)\n",
        "\n",
        "mod_food_clean = GitForCausalLM.from_pretrained(config_food_clean.base_model_name_or_path, device_map=0)\n",
        "mod_food_clean = PeftModel.from_pretrained(mod_food_clean, peft_food_clean)\n",
        "\n",
        "mod_travel_clean = GitForCausalLM.from_pretrained(config_travel_clean.base_model_name_or_path, device_map=0)\n",
        "mod_travel_clean = PeftModel.from_pretrained(mod_travel_clean, peft_travel_clean)\n",
        "\n",
        "processor = AutoProcessor.from_pretrained(\"microsoft/git-large-coco\")"
      ],
      "metadata": {
        "execution": {
          "iopub.status.busy": "2024-04-25T15:04:47.514766Z",
          "iopub.execute_input": "2024-04-25T15:04:47.515152Z",
          "iopub.status.idle": "2024-04-25T15:04:52.190961Z",
          "shell.execute_reply.started": "2024-04-25T15:04:47.515117Z",
          "shell.execute_reply": "2024-04-25T15:04:52.189977Z"
        },
        "trusted": true,
        "id": "Ta13xW9s3jgP"
      },
      "execution_count": null,
      "outputs": []
    },
    {
      "cell_type": "code",
      "source": [
        "mod_pre = GitForCausalLM.from_pretrained(\"microsoft/git-large-coco\", device_map=0)"
      ],
      "metadata": {
        "execution": {
          "iopub.status.busy": "2024-04-25T15:04:57.139642Z",
          "iopub.execute_input": "2024-04-25T15:04:57.139938Z",
          "iopub.status.idle": "2024-04-25T15:04:59.25934Z",
          "shell.execute_reply.started": "2024-04-25T15:04:57.139914Z",
          "shell.execute_reply": "2024-04-25T15:04:59.258516Z"
        },
        "trusted": true,
        "id": "xePB1NCe3jgP"
      },
      "execution_count": null,
      "outputs": []
    },
    {
      "cell_type": "code",
      "source": [
        "from PIL import Image\n",
        "\n",
        "raw_image = Image.open('/kaggle/input/thai-language-image-captioning/test/test/food/00000.jpg').convert('RGB')\n",
        "inputs = processor(images=raw_image, return_tensors=\"pt\").to(\"cuda\")\n",
        "pixel_values = inputs.pixel_values\n",
        "generated_ids = mod_food_clean.generate(pixel_values=pixel_values, max_length=128)\n",
        "generated_caption = processor.batch_decode(generated_ids, skip_special_tokens=True)\n",
        "generated_caption"
      ],
      "metadata": {
        "execution": {
          "iopub.status.busy": "2024-04-25T14:56:45.747976Z",
          "iopub.execute_input": "2024-04-25T14:56:45.74901Z",
          "iopub.status.idle": "2024-04-25T14:56:49.092439Z",
          "shell.execute_reply.started": "2024-04-25T14:56:45.748962Z",
          "shell.execute_reply": "2024-04-25T14:56:49.091378Z"
        },
        "trusted": true,
        "id": "h9frva-R3jgR"
      },
      "execution_count": null,
      "outputs": []
    },
    {
      "cell_type": "code",
      "source": [
        "generated_ids = mod_pre.generate(pixel_values=pixel_values, max_length=128)\n",
        "generated_caption = processor.batch_decode(generated_ids, skip_special_tokens=True)\n",
        "generated_caption"
      ],
      "metadata": {
        "execution": {
          "iopub.status.busy": "2024-04-25T14:56:52.922834Z",
          "iopub.execute_input": "2024-04-25T14:56:52.923229Z",
          "iopub.status.idle": "2024-04-25T14:56:53.519214Z",
          "shell.execute_reply.started": "2024-04-25T14:56:52.923191Z",
          "shell.execute_reply": "2024-04-25T14:56:53.517939Z"
        },
        "trusted": true,
        "id": "2TmEN16I3jgR"
      },
      "execution_count": null,
      "outputs": []
    },
    {
      "cell_type": "code",
      "source": [
        "raw_image"
      ],
      "metadata": {
        "execution": {
          "iopub.status.busy": "2024-04-25T14:56:56.739495Z",
          "iopub.execute_input": "2024-04-25T14:56:56.739864Z",
          "iopub.status.idle": "2024-04-25T14:56:56.885343Z",
          "shell.execute_reply.started": "2024-04-25T14:56:56.739838Z",
          "shell.execute_reply": "2024-04-25T14:56:56.88418Z"
        },
        "trusted": true,
        "id": "p_Y79VeZ3jgS"
      },
      "execution_count": null,
      "outputs": []
    },
    {
      "cell_type": "code",
      "source": [
        "from PIL import Image\n",
        "\n",
        "raw_image = Image.open('/kaggle/input/thai-language-image-captioning/test/test/travel/00001.jpg').convert('RGB')\n",
        "inputs = processor(images=raw_image, return_tensors=\"pt\").to(\"cuda\")\n",
        "pixel_values = inputs.pixel_values\n",
        "generated_ids = mod_travel_clean.generate(pixel_values=pixel_values, max_length=128)\n",
        "generated_caption = processor.batch_decode(generated_ids, skip_special_tokens=True)\n",
        "generated_caption"
      ],
      "metadata": {
        "execution": {
          "iopub.status.busy": "2024-04-25T14:57:05.782305Z",
          "iopub.execute_input": "2024-04-25T14:57:05.782712Z",
          "iopub.status.idle": "2024-04-25T14:57:06.320534Z",
          "shell.execute_reply.started": "2024-04-25T14:57:05.782683Z",
          "shell.execute_reply": "2024-04-25T14:57:06.319426Z"
        },
        "trusted": true,
        "id": "9N2yFyOW3jgS"
      },
      "execution_count": null,
      "outputs": []
    },
    {
      "cell_type": "code",
      "source": [
        "raw_image"
      ],
      "metadata": {
        "execution": {
          "iopub.status.busy": "2024-04-25T14:57:15.523116Z",
          "iopub.execute_input": "2024-04-25T14:57:15.523884Z",
          "iopub.status.idle": "2024-04-25T14:57:15.681836Z",
          "shell.execute_reply.started": "2024-04-25T14:57:15.523852Z",
          "shell.execute_reply": "2024-04-25T14:57:15.680734Z"
        },
        "trusted": true,
        "id": "2XP8MHgi3jgU"
      },
      "execution_count": null,
      "outputs": []
    },
    {
      "cell_type": "code",
      "source": [
        "generated_ids = mod_pre.generate(pixel_values=pixel_values, max_length=128)\n",
        "generated_caption = processor.batch_decode(generated_ids, skip_special_tokens=True)\n",
        "generated_caption"
      ],
      "metadata": {
        "execution": {
          "iopub.status.busy": "2024-04-25T14:57:19.483117Z",
          "iopub.execute_input": "2024-04-25T14:57:19.483868Z",
          "iopub.status.idle": "2024-04-25T14:57:20.173496Z",
          "shell.execute_reply.started": "2024-04-25T14:57:19.483836Z",
          "shell.execute_reply": "2024-04-25T14:57:20.172301Z"
        },
        "trusted": true,
        "id": "bP-tcnQp3jgV"
      },
      "execution_count": null,
      "outputs": []
    },
    {
      "cell_type": "markdown",
      "source": [
        "## inferrence"
      ],
      "metadata": {
        "id": "vOsAbDT53jgW"
      }
    },
    {
      "cell_type": "markdown",
      "source": [
        "### git-large"
      ],
      "metadata": {
        "id": "YOGnMYY-ZNSK"
      }
    },
    {
      "cell_type": "code",
      "source": [
        "import torch\n",
        "from tqdm.auto import tqdm\n",
        "from PIL import Image\n",
        "\n",
        "BATCH_SIZE = 64\n",
        "image_ls = []\n",
        "index_ls = []\n",
        "\n",
        "def predicts(image_ls, model):\n",
        "    inputs = processor(images=image_ls, return_tensors=\"pt\").to(\"cuda\")\n",
        "    pixel_values = inputs.pixel_values\n",
        "    generated_ids = model.generate(pixel_values=pixel_values, max_length=128)\n",
        "    generated_caption = processor.batch_decode(generated_ids, skip_special_tokens=True)\n",
        "    return generated_caption\n",
        "\n",
        "for index , series in tqdm(sp_sm.iterrows()) :\n",
        "    if(type(series['caption']) == float) :\n",
        "        if 'food' in series[\"image_id\"]:\n",
        "            image_url = '/kaggle/input/thai-language-image-captioning/test/' + series[\"image_id\"] + '.jpg'\n",
        "            modelo = mod_food_clean\n",
        "        elif 'travel' in series[\"image_id\"]:\n",
        "            image_url = '/kaggle/input/thai-language-image-captioning/test/' + series[\"image_id\"] + '.jpg'\n",
        "            modelo = mod_travel_clean\n",
        "        else:\n",
        "            image_url = '/kaggle/input/coco-test-2017-images/' + series[\"image_id\"] + '.jpg'\n",
        "            modelo = mod_pre\n",
        "        raw_image = Image.open(image_url).convert('RGB')\n",
        "        image_ls.append(raw_image)\n",
        "        index_ls.append(index)\n",
        "        if (len(image_ls) < BATCH_SIZE):\n",
        "            continue\n",
        "        generated = predicts(image_ls, modelo)\n",
        "#         print(generated)\n",
        "        for i in range(BATCH_SIZE) :\n",
        "          sp_sm.loc[index_ls[i], \"caption\"] = generated[i]\n",
        "        image_ls = []\n",
        "        index_ls = []\n",
        "\n",
        "if len(image_ls):\n",
        "  generated = predicts(image_ls)\n",
        "  for i in range(len(image_ls)) :\n",
        "    sp_sm.loc[index_ls[i], \"caption\"] = generated[i]\n",
        "#   image_ls = []\n",
        "#   index_ls = []"
      ],
      "metadata": {
        "trusted": true,
        "id": "mAMBQ0We3jgW"
      },
      "execution_count": null,
      "outputs": []
    },
    {
      "cell_type": "markdown",
      "source": [
        "### mblip-mt0-xl"
      ],
      "metadata": {
        "id": "rUqVcnMh3jgY"
      }
    },
    {
      "cell_type": "code",
      "source": [
        "!pip install accelerate"
      ],
      "metadata": {
        "execution": {
          "iopub.status.busy": "2024-04-29T17:12:23.263545Z",
          "iopub.execute_input": "2024-04-29T17:12:23.264216Z",
          "iopub.status.idle": "2024-04-29T17:12:35.465613Z",
          "shell.execute_reply.started": "2024-04-29T17:12:23.264185Z",
          "shell.execute_reply": "2024-04-29T17:12:35.464386Z"
        },
        "trusted": true,
        "id": "dxvqq5iw3jgY"
      },
      "execution_count": null,
      "outputs": []
    },
    {
      "cell_type": "code",
      "source": [
        "import torch\n",
        "from PIL import Image\n",
        "import requests\n",
        "from transformers import Blip2Processor, Blip2ForConditionalGeneration\n",
        "\n",
        "processor = Blip2Processor.from_pretrained(\"Gregor/mblip-mt0-xl\")\n",
        "model = Blip2ForConditionalGeneration.from_pretrained(\"Gregor/mblip-mt0-xl\",\n",
        "                                                      load_in_8bit=True,\n",
        "                                                      device_map=\"cuda\",\n",
        "                                                      torch_dtype=torch.bfloat16)"
      ],
      "metadata": {
        "trusted": true,
        "id": "dxOdgbqB3jgZ"
      },
      "execution_count": null,
      "outputs": []
    },
    {
      "cell_type": "code",
      "source": [
        "image = Image.open('/kaggle/input/thai-language-image-captioning/test/test/food/00000.jpg').convert('RGB')\n",
        "prompt = \"<ASSISTANT>: Describe this image to thai caption.\\n<USER>:\"\n",
        "\n",
        "inputs = processor(images=image, text=prompt, return_tensors=\"pt\")\n",
        "generated_ids = model.generate(**inputs)\n",
        "generated_text = processor.batch_decode(generated_ids, skip_special_tokens=True)[0].strip()\n",
        "\n",
        "outputs = model(inputs)"
      ],
      "metadata": {
        "id": "h0gqmESY3jga"
      },
      "execution_count": null,
      "outputs": []
    },
    {
      "cell_type": "code",
      "source": [
        "import torch\n",
        "from tqdm.auto import tqdm\n",
        "from PIL import Image\n",
        "\n",
        "BATCH_SIZE = 64\n",
        "image_ls = []\n",
        "index_ls = []\n",
        "\n",
        "def predicts(image_ls, question):\n",
        "    inputs = processor(images=image_ls, text=question, return_tensors=\"pt\").to(\"cuda\")\n",
        "    generated_ids = model.generate(inputs, max_length=50)\n",
        "    generated_caption = processor.batch_decode(generated_ids, skip_special_tokens=True)\n",
        "    return generated_caption\n",
        "\n",
        "for index , series in tqdm(sp_sm.iterrows()) :\n",
        "    if(type(series['caption']) == float) :\n",
        "        if 'test2017' in series[\"image_id\"]:\n",
        "            image_url = '/kaggle/input/coco-test-2017-images/' + series[\"image_id\"] + '.jpg'\n",
        "        else:\n",
        "            image_url = '/kaggle/input/thai-language-image-captioning/test/' + series[\"image_id\"] + '.jpg'\n",
        "        raw_image = Image.open(image_url).convert('RGB')\n",
        "        image_ls.append(raw_image)\n",
        "        index_ls.append(index)\n",
        "        if (len(image_ls) < BATCH_SIZE):\n",
        "            continue\n",
        "        question = ['<ASSISTANT>: Describe this image to thai caption.\\n<USER>:'] * BATCH_SIZE\n",
        "        generated = predicts(image_ls, question)\n",
        "        for i in range(BATCH_SIZE) :\n",
        "          sp_sm.loc[index_ls[i], \"caption\"] = generated[i]\n",
        "        image_ls = []\n",
        "        index_ls = []\n",
        "if len(image_ls):\n",
        "  generated = predicts(image_ls)\n",
        "  for i in range(len(image_ls)) :\n",
        "    sp_sm.loc[index_ls[i], \"caption\"] = generated[i]"
      ],
      "metadata": {
        "id": "GEgbnXhd3jga"
      },
      "execution_count": null,
      "outputs": []
    },
    {
      "cell_type": "markdown",
      "source": [
        "----"
      ],
      "metadata": {
        "id": "ixrPxk1n3jgc"
      }
    },
    {
      "cell_type": "code",
      "source": [
        "sp_sm"
      ],
      "metadata": {
        "execution": {
          "iopub.status.busy": "2024-04-25T15:16:25.874029Z",
          "iopub.execute_input": "2024-04-25T15:16:25.874791Z",
          "iopub.status.idle": "2024-04-25T15:16:25.885104Z",
          "shell.execute_reply.started": "2024-04-25T15:16:25.874762Z",
          "shell.execute_reply": "2024-04-25T15:16:25.884179Z"
        },
        "trusted": true,
        "id": "_MxYbwK33jgc"
      },
      "execution_count": null,
      "outputs": []
    },
    {
      "cell_type": "code",
      "source": [
        "sp_sm.to_excel('mongkol_gitL.xlsx', index=False)"
      ],
      "metadata": {
        "execution": {
          "iopub.status.busy": "2024-04-25T11:32:18.966349Z",
          "iopub.execute_input": "2024-04-25T11:32:18.966895Z",
          "iopub.status.idle": "2024-04-25T11:32:19.515701Z",
          "shell.execute_reply.started": "2024-04-25T11:32:18.96687Z",
          "shell.execute_reply": "2024-04-25T11:32:19.514931Z"
        },
        "trusted": true,
        "id": "3K-Ji5L-3jgd"
      },
      "execution_count": null,
      "outputs": []
    },
    {
      "cell_type": "code",
      "source": [
        "dt_1 = sp_sm['caption'][:10000]\n",
        "dt_2 = sp_sm['caption'][10000:20000]\n",
        "dt_3 = sp_sm['caption'][20000:30000]\n",
        "dt_4 = sp_sm['caption'][30000:40000]\n",
        "dt_5 = sp_sm['caption'][40000:]\n",
        "\n",
        "dt_1.to_excel('test_1.xlsx', index=False)\n",
        "dt_2.to_excel('test_2.xlsx', index=False)\n",
        "dt_3.to_excel('test_3.xlsx', index=False)\n",
        "dt_4.to_excel('test_4.xlsx', index=False)\n",
        "dt_5.to_excel('test_5.xlsx', index=False)"
      ],
      "metadata": {
        "execution": {
          "iopub.status.busy": "2024-04-23T07:14:45.068071Z",
          "iopub.execute_input": "2024-04-23T07:14:45.068854Z",
          "iopub.status.idle": "2024-04-23T07:14:47.609887Z",
          "shell.execute_reply.started": "2024-04-23T07:14:45.068822Z",
          "shell.execute_reply": "2024-04-23T07:14:47.609051Z"
        },
        "trusted": true,
        "id": "Wv7JiJvc3jge"
      },
      "execution_count": null,
      "outputs": []
    },
    {
      "cell_type": "code",
      "source": [
        "sub = pd.read_csv('/kaggle/input/thai-language-image-captioning/sample_submission.csv')"
      ],
      "metadata": {
        "execution": {
          "iopub.status.busy": "2024-04-24T08:07:37.377529Z",
          "iopub.execute_input": "2024-04-24T08:07:37.37824Z",
          "iopub.status.idle": "2024-04-24T08:07:37.42552Z",
          "shell.execute_reply.started": "2024-04-24T08:07:37.378207Z",
          "shell.execute_reply": "2024-04-24T08:07:37.424722Z"
        },
        "trusted": true,
        "id": "zTPxRAkL3jgf"
      },
      "execution_count": null,
      "outputs": []
    },
    {
      "cell_type": "code",
      "source": [],
      "metadata": {
        "id": "KChHPWvR3jgg"
      },
      "execution_count": null,
      "outputs": []
    }
  ]
}